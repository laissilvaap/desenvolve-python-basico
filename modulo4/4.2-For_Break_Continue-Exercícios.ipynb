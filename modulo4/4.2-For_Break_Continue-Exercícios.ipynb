{
 "cells": [
  {
   "cell_type": "markdown",
   "id": "29e89030",
   "metadata": {},
   "source": [
    "# Módulo 4 - Repetições\n",
    "\n",
    "## Aulas 4.2 - Comando ```for``` e 4.3 Break e Continue"
   ]
  },
  {
   "cell_type": "markdown",
   "id": "a45b42df",
   "metadata": {},
   "source": [
    "### Q1.\n",
    "\n",
    "Crie um programa em Python que utilize o comando for para imprimir os números de 10 a 1, em ordem decrescente."
   ]
  },
  {
   "cell_type": "code",
   "execution_count": null,
   "id": "55a75b3d",
   "metadata": {},
   "outputs": [
    {
     "name": "stdout",
     "output_type": "stream",
     "text": [
      "10\n",
      "9\n",
      "8\n",
      "7\n",
      "6\n",
      "5\n",
      "4\n",
      "3\n",
      "2\n",
      "1\n"
     ]
    }
   ],
   "source": [
    "## Escreva e execute seu código aqui\n",
    "for i  in range(10,0,-1):\n",
    "    print (i)\n",
    "\n"
   ]
  },
  {
   "cell_type": "markdown",
   "id": "94b47c36",
   "metadata": {},
   "source": [
    "### Q2.\n",
    "\n",
    "Dado um número inteiro positivo informado pelo usuário, crie um programa em Python que utilize o comando for para calcular e exibir a soma dos números de 1 até o número informado. Ou seja, $1 + 2 + 3 + ... + n$\n",
    "\n",
    "Exemplo de interação:\n",
    "```\n",
    "Digite um número: 5\n",
    "A soma dos números de 1 a 5 é 15\n",
    "```\n"
   ]
  },
  {
   "cell_type": "code",
   "execution_count": null,
   "id": "45b71596",
   "metadata": {},
   "outputs": [
    {
     "name": "stdout",
     "output_type": "stream",
     "text": [
      "15\n"
     ]
    }
   ],
   "source": [
    "## Escreva e execute seu código aqui\n",
    "n = int(input(\"Digite um número:\"))\n",
    "soma = 0\n",
    "\n",
    "for i in range(1,n+1):\n",
    "    soma += i\n",
    "    \n",
    "print (soma)\n"
   ]
  },
  {
   "cell_type": "markdown",
   "id": "0411d170",
   "metadata": {},
   "source": [
    "### Q3.\n",
    "\n",
    "Escreva um programa que lê 10 valores inteiros positivos do usuário e ao final imprime a média dos valores digitados com duas casas decimais.\n",
    "\n",
    "```\n",
    "Digite 10 números positivos:\n",
    "3\n",
    "2\n",
    "12\n",
    "14\n",
    "20\n",
    "42\n",
    "19\n",
    "0\n",
    "8\n",
    "1\n",
    "A média dos valores digitados é 12.10\n",
    "```"
   ]
  },
  {
   "cell_type": "code",
   "execution_count": 1,
   "id": "3f72f358",
   "metadata": {},
   "outputs": [
    {
     "name": "stdin",
     "output_type": "stream",
     "text": [
      "Digite o primeiro número: 3\n",
      "Digite o segundo número: 2\n",
      "Digite o terceiro número: 12\n",
      "Digite o quarto número: 14\n",
      "Digite o quinto número: 20\n",
      "Digite o sexto número: 42\n",
      "Digite o sétimo número: 19\n",
      "Digite o oitavo número: 0\n",
      "Digite o nono número: 8\n",
      "Digite o décimo número: 1\n"
     ]
    },
    {
     "name": "stdout",
     "output_type": "stream",
     "text": [
      "A média dos valores digitados é 12.1\n"
     ]
    }
   ],
   "source": [
    "## Escreva e execute seu código aqui\n",
    "n1 = int(input(\"Digite o primeiro número:\"))\n",
    "n2 = int(input(\"Digite o segundo número:\"))\n",
    "n3 = int(input(\"Digite o terceiro número:\"))\n",
    "n4 = int(input(\"Digite o quarto número:\"))\n",
    "n5 = int(input(\"Digite o quinto número:\"))\n",
    "n6 = int(input(\"Digite o sexto número:\"))\n",
    "n7 = int(input(\"Digite o sétimo número:\"))\n",
    "n8 = int(input(\"Digite o oitavo número:\"))\n",
    "n9 = int(input(\"Digite o nono número:\"))\n",
    "n10 = int(input(\"Digite o décimo número:\"))\n",
    "\n",
    "for i in range(11):\n",
    "    media = (n1+n2+n3+n4+n5+n6+n7+n8+n9+n10) / 10\n",
    "print (\"A média dos valores digitados é\", media)"
   ]
  },
  {
   "cell_type": "markdown",
   "id": "d62e27ff",
   "metadata": {},
   "source": [
    "### Q4.\n",
    "\n",
    "Você vai criar um sistema que registra os resultados dos jogos do Atlético MG ao longo de um campeonato. Seu sistema vai receber os resultados de todos os jogos do Galo, e deve calcular a pontuação do time sabendo que vitórias valem 3 pontos, empates 1 ponto e derrotas 0 pontos.\n",
    "\n",
    "Entrada: <br>\n",
    "A primeira linha de entrada é um inteiro N com a quantidade jogos do galo. Para cada jogo você deve ler 2 inteiros, o primeiro com a quantidade de gols do galo e o segundo com a quantidade de gols do time oponente. \n",
    "\n",
    "Saída: <br>\n",
    "Apresente a soma de vitórias, empates e derrotas do galo, junto com o cálculo da pontuação total.\n",
    "\n",
    "Ex:\n",
    "```\n",
    "Entrada:\n",
    "4\n",
    "2\n",
    "0\n",
    "1\n",
    "1\n",
    "0\n",
    "3\n",
    "1\n",
    "0\n",
    "\n",
    "Saída:\n",
    "Vitórias: 2\n",
    "Empates: 1\n",
    "Derrotas: 1\n",
    "Pontuação: 7\n",
    "\n",
    "```\n",
    "\n",
    "\n"
   ]
  },
  {
   "cell_type": "code",
   "execution_count": 2,
   "id": "d3fdfc2a",
   "metadata": {},
   "outputs": [
    {
     "name": "stdin",
     "output_type": "stream",
     "text": [
      "Digite a quantidade de jogos do Atlético: 4\n",
      "Digite os gols do Alético no jogo 1: 2\n",
      "Digite os gols do oponente no jogo 1: 0\n",
      "Digite os gols do Alético no jogo 2: 1\n",
      "Digite os gols do oponente no jogo 2: 1\n",
      "Digite os gols do Alético no jogo 3: 0\n",
      "Digite os gols do oponente no jogo 3: 3\n",
      "Digite os gols do Alético no jogo 4: 1\n",
      "Digite os gols do oponente no jogo 4: 0\n"
     ]
    },
    {
     "name": "stdout",
     "output_type": "stream",
     "text": [
      "Total de jogos: 4\n",
      "Total de vitórias: 2\n",
      "Total de empates: 1\n",
      "Total de derrotas: 1\n",
      "Pontuação: 7\n"
     ]
    }
   ],
   "source": [
    "## Escreva e execute seu código aqui\n",
    "n = int(input(\"Digite a quantidade de jogos do Atlético:\"))\n",
    "soma_v, soma_e, soma_d = 0, 0, 0\n",
    "\n",
    "for i in range(1,n+1,1):\n",
    "    gols_feitos = int(input(f\"Digite os gols do Alético no jogo {i}:\"))\n",
    "    gols_tomados = int(input(f\"Digite os gols do oponente no jogo {i}:\"))\n",
    "\n",
    "    if gols_feitos > gols_tomados:\n",
    "        soma_v += 1\n",
    "    elif gols_feitos < gols_tomados:\n",
    "        soma_d += 1\n",
    "    else:\n",
    "        soma_e += 1\n",
    "    \n",
    "print (\"Total de jogos:\" ,n)  \n",
    "print (\"Total de vitórias:\" ,soma_v)\n",
    "print (\"Total de empates:\" ,soma_e)\n",
    "print (\"Total de derrotas:\" , soma_d)\n",
    "print (\"Pontuação:\" ,3 * soma_v + soma_e)\n",
    "\n",
    "    "
   ]
  },
  {
   "cell_type": "markdown",
   "id": "fc98604d",
   "metadata": {},
   "source": [
    "### Q5.\n",
    "\n",
    "Faça um programa que lê dois inteiros N e M, e imprime na tela um campo de batalha naval. O tabuleiro deve possuir N linhas e M colunas. A primeira linha é composta por um espaço em branco e o cabeçalho das colunas, ou seja, valores de 1 a M. As N linhas seguintes iniciam com o cabeçalho da linha, ou seja, seu número, seguido de M caracteres \"/\" (barra) indicando uma possível posição jogável. \n",
    "\n",
    "```\n",
    "Entrada:\n",
    "5\n",
    "4\n",
    "\n",
    "Saída:\n",
    "  1 2 3 4 \n",
    "1 / / / / \n",
    "2 / / / / \n",
    "3 / / / / \n",
    "4 / / / / \n",
    "5 / / / / \n",
    "```\n",
    "\n",
    "Para esse exercício, precisamos lembrar que o comando print implicitamente adiciona uma quebra de linha ao final da impressão. Podemos interferir no final da impressão adicionando mais uma entrada ao print. No exemplo, finalizamos cada linha com um espaço em branco:\n",
    "```python\n",
    "print(\"Texto qualquer\", end = \" \")\n",
    "```"
   ]
  },
  {
   "cell_type": "code",
   "execution_count": 5,
   "id": "a60ef197",
   "metadata": {},
   "outputs": [
    {
     "name": "stdin",
     "output_type": "stream",
     "text": [
      "Digite o valor de N: 5\n",
      "Digite o valor de M: 4\n"
     ]
    },
    {
     "name": "stdout",
     "output_type": "stream",
     "text": [
      "  1 2 3 4 \n",
      "1 / / / / \n",
      "2 / / / / \n",
      "3 / / / / \n",
      "4 / / / / \n",
      "5 / / / / \n"
     ]
    }
   ],
   "source": [
    "##### Escreva e execute seu código aqui\n",
    "N = int(input(\"Digite o valor de N:\"))\n",
    "M = int(input(\"Digite o valor de M:\"))\n",
    "\n",
    "print(\" \", end=\" \") \n",
    "for col in range(1, M + 1):\n",
    "    print(col, end=\" \")\n",
    "print()  \n",
    "\n",
    "for linha in range(1, N + 1):\n",
    "    print(linha, end=\" \") \n",
    "    for col in range(M):\n",
    "        print(\"/\", end=\" \")  \n",
    "    print()  \n"
   ]
  },
  {
   "cell_type": "markdown",
   "id": "24fe9d85",
   "metadata": {},
   "source": [
    "### Q6.\n",
    "\n",
    "Escreva um programa que lê uma quantidade indefinida de valores e informa o maior e o menor valor digitados. A leitura é encerrada quando o usuário digitar o valor 0 (zero).\n",
    "\n",
    "```\n",
    "Entrada:\n",
    "12\n",
    "-1\n",
    "29\n",
    "11\n",
    "-5\n",
    "0\n",
    "\n",
    "Saída:\n",
    "Maior: 29\n",
    "Menor: -5\n",
    "```"
   ]
  },
  {
   "cell_type": "code",
   "execution_count": 4,
   "id": "ee1c466a",
   "metadata": {},
   "outputs": [
    {
     "name": "stdout",
     "output_type": "stream",
     "text": [
      "O maior valor é 29\n",
      "O menor valor é -5\n"
     ]
    }
   ],
   "source": [
    "## Escreva e execute seu código aqui\n",
    "maior = float('-inf')\n",
    "menor = float('inf')\n",
    "\n",
    "while True:\n",
    "    n = int(input(\"Digite um número:\"))\n",
    "    if n == 0: break\n",
    "\n",
    "    if n > maior:\n",
    "        maior = n\n",
    "    if n < menor:\n",
    "        menor = n\n",
    "\n",
    "print (\"O maior valor é\" ,maior)\n",
    "print (\"O menor valor é\" ,menor)\n"
   ]
  },
  {
   "cell_type": "markdown",
   "id": "30d486f7",
   "metadata": {},
   "source": [
    "### Q7.\n",
    "\n",
    "Escreva um programa que lê uma quantidade indefinida de valores e informa o **produto** dos valores positivos digitados. A leitura é encerrada quando o usuário digitar o valor 0 (zero).\n",
    "\n",
    "```\n",
    "Entrada:\n",
    "2\n",
    "-1\n",
    "1\n",
    "3\n",
    "-5\n",
    "0\n",
    "\n",
    "Saída:\n",
    "Produto: 6\n",
    "```"
   ]
  },
  {
   "cell_type": "code",
   "execution_count": 4,
   "id": "2f1ac324",
   "metadata": {},
   "outputs": [
    {
     "name": "stdin",
     "output_type": "stream",
     "text": [
      "Digite um número: 2\n",
      "Digite um número: -1\n",
      "Digite um número: 1\n",
      "Digite um número: 3\n",
      "Digite um número: -5\n",
      "Digite um número: 0\n"
     ]
    },
    {
     "name": "stdout",
     "output_type": "stream",
     "text": [
      "Produto dos positivos: 6\n"
     ]
    }
   ],
   "source": [
    "## Escreva e execute seu código aqui\n",
    "produto = 1\n",
    "\n",
    "while True:\n",
    "    n = int(input(\"Digite um número:\"))\n",
    "    if n == 0: break\n",
    "    if n < 0: continue\n",
    "    produto = produto * n\n",
    "\n",
    "print (\"Produto dos positivos:\" ,produto)"
   ]
  },
  {
   "cell_type": "markdown",
   "id": "e932f3cf",
   "metadata": {},
   "source": [
    "### Q8.\n",
    "\n",
    "Vamos fazer uma calculadora que aceita expressões aritméticas de qualquer tamanho até que o usuário digite a palavra \"Fim\". Sua calculadora executa apenas as operações \"+\", \"-\".\n",
    "\n",
    "```\n",
    "Entrada:\n",
    "5\n",
    "+\n",
    "8\n",
    "-\n",
    "3\n",
    "+\n",
    "2\n",
    "Fim\n",
    "\n",
    "Saída:\n",
    "12\n",
    "```"
   ]
  },
  {
   "cell_type": "code",
   "execution_count": 3,
   "id": "ac106d7e-e153-4e9d-ad9b-c0e25b39df16",
   "metadata": {},
   "outputs": [
    {
     "name": "stdin",
     "output_type": "stream",
     "text": [
      "Digite um número: 5\n",
      "Digite o operador(+ ou -): +\n",
      "Digite outro número: 8\n",
      "Digite o operador(+ ou -): -\n",
      "Digite outro número: 3\n",
      "Digite o operador(+ ou -): +\n",
      "Digite outro número: 2\n",
      "Digite o operador(+ ou -): Fim\n"
     ]
    },
    {
     "name": "stdout",
     "output_type": "stream",
     "text": [
      "O resultado da expressão é:  12\n"
     ]
    }
   ],
   "source": [
    "n1 = int(input(\"Digite um número:\"))\n",
    "op = str(input(\"Digite o operador(+ ou -):\"))\n",
    "n2 = int(input(\"Digite outro número:\"))\n",
    "\n",
    "if op == \"+\":\n",
    "    resultado = n1 + n2\n",
    "elif op == \"-\":\n",
    "    resultado = n1 - n2\n",
    "while True:\n",
    "    op = str(input(\"Digite o operador(+ ou -):\"))\n",
    "    if op == \"Fim\": break\n",
    "    n = int(input(\"Digite outro número:\"))\n",
    "    if op == \"+\":\n",
    "        resultado += n\n",
    "    elif op == \"-\":\n",
    "        resultado -= n\n",
    "print(\"O resultado da expressão é: \",resultado)    \n",
    "   \n",
    "         "
   ]
  },
  {
   "cell_type": "code",
   "execution_count": null,
   "id": "0c5be827-fc71-4192-aa5b-980cf8386119",
   "metadata": {},
   "outputs": [],
   "source": []
  }
 ],
 "metadata": {
  "kernelspec": {
   "display_name": "Python 3 (ipykernel)",
   "language": "python",
   "name": "python3"
  },
  "language_info": {
   "codemirror_mode": {
    "name": "ipython",
    "version": 3
   },
   "file_extension": ".py",
   "mimetype": "text/x-python",
   "name": "python",
   "nbconvert_exporter": "python",
   "pygments_lexer": "ipython3",
   "version": "3.12.7"
  }
 },
 "nbformat": 4,
 "nbformat_minor": 5
}
