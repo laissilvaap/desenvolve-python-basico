{
 "cells": [
  {
   "cell_type": "markdown",
   "id": "0d5035b5",
   "metadata": {},
   "source": [
    "# Listas\n",
    "\n",
    "## Aulas 6.1 a 6.5 "
   ]
  },
  {
   "cell_type": "markdown",
   "id": "0bdece85",
   "metadata": {},
   "source": [
    "### Q1. \n",
    "\n",
    "Usando a função embutida ```map``` e criando uma função ```lambda```, transforme uma lista com os raios de múltiplas circunferências em uma nova lista com as respectivas áreas. O cálculo de cada área é dado por: ```pi*(raio**2)```\n",
    "- Use a constante pi da biblioteca math \n",
    "- Arredonde o resultado para 2 casas decimais\n"
   ]
  },
  {
   "cell_type": "code",
   "execution_count": 18,
   "id": "0a258eba",
   "metadata": {},
   "outputs": [
    {
     "name": "stdout",
     "output_type": "stream",
     "text": [
      "7.07 2.01 16.62 78.54 "
     ]
    }
   ],
   "source": [
    "## Complete a solução\n",
    "import math\n",
    "\n",
    "raios = [1.5, 0.8, 2.3, 5.0]\n",
    "\n",
    "# Calcula a área e arredonda\n",
    "areas = map(lambda r: round(math.pi * r**2, 2), raios)\n",
    "\n",
    "\n",
    "# resultado\n",
    "for item in areas:\n",
    "    print(item, end=' ')\n"
   ]
  },
  {
   "cell_type": "markdown",
   "id": "649a5082",
   "metadata": {},
   "source": [
    "### Q2. \n",
    "\n",
    "Crie uma função customizada e aplique a função embutida ```filter``` para operar em uma lista de listas contendo os lados de múltiplos triângulos. Construa uma nova lista contendo apenas os triângulos equiláteros, ou seja, com os três lados iguais.\n"
   ]
  },
  {
   "cell_type": "code",
   "execution_count": 27,
   "id": "47cb0573",
   "metadata": {},
   "outputs": [
    {
     "name": "stdout",
     "output_type": "stream",
     "text": [
      "[[2, 2, 2], [4, 4, 4]]\n"
     ]
    }
   ],
   "source": [
    "## Crie a função customizada\n",
    "def testa_equilatero(lados):\n",
    "    return lados[0] == lados[1] == lados[2]\n",
    "\n",
    "triangulos  = [[2,2,2], [3,4,5], [3,2,2],[4,4,4]] #lista com medida dos lados dos triangulos\n",
    "\n",
    "triangulos_equilateros = filter(testa_equilatero, triangulos) #seleciona apenas os triangulos equilateros\n",
    "print(list(triangulos_equilateros)) # saída de dados\n",
    "\n",
    "\n",
    "\n"
   ]
  },
  {
   "cell_type": "markdown",
   "id": "bb62d219",
   "metadata": {},
   "source": [
    "### Q3. \n",
    "Crie uma função chamada ```ordena_por_comprimento``` que aceite uma lista de strings e a ordene com base no comprimento das strings, do menor para o maior. Utilize a função ```sorte``` e uma expressão ```lambda```."
   ]
  },
  {
   "cell_type": "code",
   "execution_count": 33,
   "id": "add41556",
   "metadata": {},
   "outputs": [
    {
     "name": "stdout",
     "output_type": "stream",
     "text": [
      "['Sol', 'Joao', 'Jose', 'Luna', 'Enzo', 'Maria', 'Bento', 'Gabriela', 'Fernanda']\n"
     ]
    }
   ],
   "source": [
    "### crie a função ordena_por_comprimento e retorne a lista resultado\n",
    "def ordena_por_comprimento(lista):\n",
    "    return sorted(lista, key=lambda x: len(x))\n",
    "\n",
    "# lista de nomes\n",
    "nomes = [\"Joao\", \"Maria\", \"Jose\", \"Gabriela\", \"Sol\", \"Luna\", \"Bento\", \"Enzo\", \"Fernanda\"]\n",
    "#saída\n",
    "print (ordena_por_comprimento(nomes))\n",
    "\n"
   ]
  },
  {
   "cell_type": "markdown",
   "id": "8710b1a7",
   "metadata": {},
   "source": [
    "### Q4.\n",
    "\n",
    "Crie uma lista de listas (uma matriz de 2 dimensões) de tamanho $n \\times n$, com $n$ dado pelo usuário. Cada elemento da matriz deve ser o produto dos índices da linha pela coluna.\n",
    "\n",
    "Exemplo:\n",
    "```\n",
    "Digite n: 4\n",
    "Matriz:\n",
    "[[0, 0, 0, 0],\n",
    " [0, 1, 2, 3],\n",
    " [0, 2, 4, 6],\n",
    " [0, 3, 6, 9]]\n",
    "```"
   ]
  },
  {
   "cell_type": "code",
   "execution_count": 39,
   "id": "0b7ee921",
   "metadata": {},
   "outputs": [
    {
     "name": "stdin",
     "output_type": "stream",
     "text": [
      "Digite o tamanho da matriz:  4\n"
     ]
    },
    {
     "name": "stdout",
     "output_type": "stream",
     "text": [
      "[0, 0, 0, 0]\n",
      "[0, 1, 2, 3]\n",
      "[0, 2, 4, 6]\n",
      "[0, 3, 6, 9]\n"
     ]
    }
   ],
   "source": [
    "def matriz(n):\n",
    "    m = []\n",
    "    for i in range(n):\n",
    "        linha = []\n",
    "        for j in range(n):\n",
    "            linha.append(i * j)\n",
    "        m.append(linha)\n",
    "    return m\n",
    "\n",
    "# Solicita ao usuário o tamanho da matriz\n",
    "n = int(input(\"Digite o tamanho da matriz: \"))\n",
    "resultado = matriz(n)\n",
    "\n",
    "# saída\n",
    "for linha in resultado:\n",
    "    print(linha)\n",
    "\n"
   ]
  },
  {
   "cell_type": "markdown",
   "id": "f41781df",
   "metadata": {},
   "source": [
    "### Q5.\n",
    "\n",
    "Dada uma lista de números inteiros, implemente uma função em Python chamada ```pares_unicos``` que encontre e retorne todos os pares únicos de elementos na lista cuja soma seja igual a um determinado valor. Considere que a ordem dos pares não é relevante."
   ]
  },
  {
   "cell_type": "code",
   "execution_count": 44,
   "id": "7a76f765",
   "metadata": {},
   "outputs": [
    {
     "name": "stdout",
     "output_type": "stream",
     "text": [
      "[[4, 6], [3, 7]]\n"
     ]
    }
   ],
   "source": [
    "def pares_unicos(numeros, soma_objetivo):\n",
    "    pares = []  # lista para armazenar \n",
    "    vistos = []  # rastrear os números vistos\n",
    "\n",
    "    for numero in numeros:\n",
    "        n = soma_objetivo - numero\n",
    "        if n in vistos:\n",
    "            par = sorted([numero, n])  # Usamos uma lista e ordenamos\n",
    "            if par not in pares:  # Verifica se o par está na lista\n",
    "                pares.append(par)\n",
    "        vistos.append(numero)  # Adiciona à lista de vistos\n",
    "\n",
    "    return pares  # Retorna a lista de pares único\n",
    "\n",
    "# Exemplo de uso:\n",
    "nums = [3, 4, 5, 6, 7]\n",
    "soma = 10\n",
    "resultado = pares_unicos(nums, soma)\n",
    "print(resultado)  # Saída esperada: [(3, 7), (4, 6)]"
   ]
  },
  {
   "cell_type": "markdown",
   "id": "87e44893",
   "metadata": {},
   "source": [
    "### Q5.\n",
    "\n",
    "Escreva um programa para encontrar a diferença entre duas listas, incluindo elementos duplicados.\n",
    "\n",
    "Ex:\n",
    "```\n",
    "Listas originais: \n",
    "[1, 1, 2, 3, 3, 4, 4, 5, 6, 7]\n",
    "[1, 1, 2, 4, 5, 6]\n",
    "Diferença entre as listas:\n",
    "[3, 3, 4, 7]\n",
    "```"
   ]
  },
  {
   "cell_type": "code",
   "execution_count": 46,
   "id": "7edc027c",
   "metadata": {},
   "outputs": [
    {
     "name": "stdout",
     "output_type": "stream",
     "text": [
      "As listas originais:\n",
      "[1, 1, 2, 3, 3, 4, 4, 5, 6, 7]\n",
      "[1, 1, 2, 4, 5, 6]\n",
      "Diferença entre as listas:  [3, 3, 4, 7]\n"
     ]
    }
   ],
   "source": [
    "# Implemente sua solução aqui\n",
    "def lista_diferenca(lista1, lista2):\n",
    "    # Cria um dicionário para contar a ocorrência de cada elemento na lista1\n",
    "    contagem = {}\n",
    "    \n",
    "    for item in lista1:\n",
    "        if item in contagem:\n",
    "            contagem[item] += 1\n",
    "        else:\n",
    "            contagem[item] = 1\n",
    "\n",
    "    #armazena a diferença em uma lista\n",
    "    diferenca = []\n",
    "\n",
    "    for item in lista2:\n",
    "        if item in contagem and contagem[item] > 0:\n",
    "            contagem[item] -= 1\n",
    "        else:\n",
    "            diferenca.append(item)\n",
    "\n",
    "    # Acrescenta os elementos da lista1 que não estão na lista2\n",
    "    for item, count in contagem.items():\n",
    "        diferenca.extend([item] * count)\n",
    "\n",
    "    return diferenca\n",
    "\n",
    "# Exemplo de uso\n",
    "lista1 = [1, 1, 2, 3, 3, 4, 4, 5, 6, 7]\n",
    "lista2 = [1, 1, 2, 4, 5, 6]\n",
    "\n",
    "# Saída de dados\n",
    "print (\"As listas originais:\")\n",
    "print (lista1)\n",
    "print (lista2)\n",
    "print(\"Diferença entre as listas: \", lista_diferenca(lista1, lista2))"
   ]
  },
  {
   "cell_type": "markdown",
   "id": "f4c4236d",
   "metadata": {},
   "source": [
    "### Q6.\n",
    "\n",
    "Dada uma lista aleatória, escreva um programa que separa os valores em listas menores de acordo com o tamanho solicitado. Caso não seja possível repartir igualmente a lista original, a última sublista deve conter os elementos remanescentes, como indicado no exemplo a seguir.\n",
    "\n",
    "Note que seu programa deve continuar executando em um laço infinito até que o usuário informe o tamanho 0 na entrada solicitada.\n",
    "\n",
    "```\n",
    "Lista original:\n",
    "[12, 45, 23, 67, 78, 90, 45, 32, 100, 76, 38, 62, 73, 29, 83]\n",
    "\n",
    "Tamanho para divisão: 3\n",
    "Subslistas:\n",
    "[[12, 45, 23], [67, 78, 90], [45, 32, 100], [76, 38, 62], [73, 29, 83]]\n",
    "\n",
    "Tamanho para divisão: 4\n",
    "Subslistas: [[12, 45, 23, 67], [78, 90, 45, 32], [100, 76, 38, 62], [73, 29, 83]]\n",
    "\n",
    "Tamanho para divisão: 0\n",
    "```"
   ]
  },
  {
   "cell_type": "code",
   "execution_count": 47,
   "id": "792563de",
   "metadata": {},
   "outputs": [
    {
     "name": "stdout",
     "output_type": "stream",
     "text": [
      "Lista original: [1, 54, 42, 60, 16, 50, 31, 80, 9, 12, 31, 65, 93, 60, 4, 20, 100, 60, 88, 99]\n"
     ]
    },
    {
     "name": "stdin",
     "output_type": "stream",
     "text": [
      "Tamanho para divisão:  4\n"
     ]
    },
    {
     "name": "stdout",
     "output_type": "stream",
     "text": [
      "Subslistas: [[1, 54, 42, 60], [16, 50, 31, 80], [9, 12, 31, 65], [93, 60, 4, 20], [100, 60, 88, 99]]\n"
     ]
    },
    {
     "name": "stdin",
     "output_type": "stream",
     "text": [
      "Tamanho para divisão:  2\n"
     ]
    },
    {
     "name": "stdout",
     "output_type": "stream",
     "text": [
      "Subslistas: [[1, 54], [42, 60], [16, 50], [31, 80], [9, 12], [31, 65], [93, 60], [4, 20], [100, 60], [88, 99]]\n"
     ]
    },
    {
     "name": "stdin",
     "output_type": "stream",
     "text": [
      "Tamanho para divisão:  6\n"
     ]
    },
    {
     "name": "stdout",
     "output_type": "stream",
     "text": [
      "Subslistas: [[1, 54, 42, 60, 16, 50], [31, 80, 9, 12, 31, 65], [93, 60, 4, 20, 100, 60], [88, 99]]\n"
     ]
    },
    {
     "name": "stdin",
     "output_type": "stream",
     "text": [
      "Tamanho para divisão:  0\n"
     ]
    }
   ],
   "source": [
    "#### Implemente sua solução aqui\n",
    "import random\n",
    "\n",
    "def dividir_lista(lista, tamanho):\n",
    "    # Lista para armazenar as sublistas\n",
    "    sublistas = []\n",
    "    \n",
    "    # Percorre a lista original e divide em sublistas de acordo com o tamanho\n",
    "    for i in range(0, len(lista), tamanho):\n",
    "        sublistas.append(lista[i:i+tamanho])\n",
    "    \n",
    "    return sublistas\n",
    "\n",
    "# Gera uma lista aleatória com 20 números entre 1 e 100\n",
    "lista_original = [random.randint(1, 100) for i in range(20)]\n",
    "print(\"Lista original:\", lista_original)\n",
    "\n",
    "while True:\n",
    "    # Solicita ao usuário o tamanho para divisão\n",
    "    tamanho = int(input(\"Tamanho para divisão: \"))\n",
    "    \n",
    "    # Se o tamanho for 0, o programa termina\n",
    "    if tamanho == 0:\n",
    "        break\n",
    "    \n",
    "    # Chama a função para dividir a lista\n",
    "    sublistas = dividir_lista(lista_original, tamanho)\n",
    "    \n",
    "    # Exibe o resultado\n",
    "    print(\"Subslistas:\", sublistas)\n"
   ]
  },
  {
   "cell_type": "markdown",
   "id": "c65be32f",
   "metadata": {},
   "source": [
    "### Q7.\n",
    "\n",
    "Você está desenvolvendo um programa para determinar o vencedor de um jogo da velha. Escreva uma função ```avalia_tabuleiro()``` que recebe uma lista representando o estado atual do tabuleiro e determina se há um vencedor. \n",
    "\n",
    "A lista terá 3 sublistas, cada uma representando uma linha do tabuleiro. Cada elemento das sublistas pode ser 'X', 'O' ou vazio (' ').\n",
    "\n",
    "O programa deve imprimir o vencedor ('X', 'O'), se houver um, ou \"Empate\" se não houver vencedor. Um vencedor é determinado se houver três 'X' ou três 'O' em linha (horizontal, vertical ou diagonal).\n",
    "\n",
    "Exemplo:\n",
    "```python\n",
    "tabuleiro = [\n",
    "    ['X', 'O', 'X'],\n",
    "    [' ', 'X', 'O'],\n",
    "    ['O', ' ', 'O']\n",
    "]\n",
    "```\n",
    "O resultado seria \"Empate\", pois não há um vencedor no exemplo fornecido. \n",
    "\n",
    "Exemplo 2:\n",
    "```python\n",
    "tabuleiro = [\n",
    "    ['O', 'X', 'O'],\n",
    "    ['X', 'O', 'X'],\n",
    "    ['X', ' ', 'O']\n",
    "]\n",
    "```\n",
    "O resultado seria \"O\", pois 'O' venceu na diagonal central."
   ]
  },
  {
   "cell_type": "code",
   "execution_count": 52,
   "id": "720ca24d",
   "metadata": {},
   "outputs": [],
   "source": [
    "### Escreva a função avalia_tabuleiro()\n",
    "def avalia_tabuleiro(tabuleiro):\n",
    "    # Verifica as linhas\n",
    "    for linha in tabuleiro:\n",
    "        if linha[0] == linha[1] == linha[2] and linha[0] != ' ':\n",
    "            return linha[0]  # Retorna 'X' ou 'O' se houver um vencedor na linha\n",
    "    \n",
    "    # Verifica as colunas\n",
    "    for col in range(3):\n",
    "        if tabuleiro[0][col] == tabuleiro[1][col] == tabuleiro[2][col] and tabuleiro[0][col] != ' ':\n",
    "            return tabuleiro[0][col]  # Retorna 'X' ou 'O' se houver um vencedor na coluna\n",
    "    \n",
    "    # Verifica as diagonais\n",
    "    if tabuleiro[0][0] == tabuleiro[1][1] == tabuleiro[2][2] and tabuleiro[0][0] != ' ':\n",
    "        return tabuleiro[0][0]  # Retorna 'X' ou 'O' se houver um vencedor na diagonal principal\n",
    "    \n",
    "    if tabuleiro[0][2] == tabuleiro[1][1] == tabuleiro[2][0] and tabuleiro[0][2] != ' ':\n",
    "        return tabuleiro[0][2]  # Retorna 'X' ou 'O' se houver um vencedor na diagonal secundária\n",
    "    \n",
    "    # Se não houver vencedor, retorna \"Empate\"\n",
    "    return \"Empate\"\n",
    "\n",
    "### teste a função nos seguintes tabuleiros\n",
    "\n",
    "tabuleiro1 = [\n",
    "    ['X', 'O', 'X'],\n",
    "    [' ', 'X', 'O'],\n",
    "    ['O', ' ', 'X']\n",
    "]\n",
    "    \n",
    "tabuleiro2 = [\n",
    "    ['X', 'O', 'O'],\n",
    "    ['X', 'X', 'O'],\n",
    "    ['X', 'O', 'X']\n",
    "]\n",
    "\n",
    "tabuleiro3 = [\n",
    "    [' ', ' ', ' '],\n",
    "    ['X', ' ', 'O'],\n",
    "    ['O', 'X', 'X']\n",
    "]\n",
    "\n",
    "tabuleiro4 = [\n",
    "    ['O', 'O', 'O'],\n",
    "    ['X', ' ', 'X'],\n",
    "    ['O', 'X', 'X']\n",
    "]\n",
    "\n",
    "tabuleiro5 = [\n",
    "    ['X', 'X', 'O'],\n",
    "    ['X', ' ', 'O'],\n",
    "    ['O', 'O', 'X']\n",
    "]"
   ]
  }
 ],
 "metadata": {
  "kernelspec": {
   "display_name": "Python 3 (ipykernel)",
   "language": "python",
   "name": "python3"
  },
  "language_info": {
   "codemirror_mode": {
    "name": "ipython",
    "version": 3
   },
   "file_extension": ".py",
   "mimetype": "text/x-python",
   "name": "python",
   "nbconvert_exporter": "python",
   "pygments_lexer": "ipython3",
   "version": "3.12.7"
  }
 },
 "nbformat": 4,
 "nbformat_minor": 5
}
