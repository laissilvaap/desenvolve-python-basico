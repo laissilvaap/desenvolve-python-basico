{
 "cells": [
  {
   "cell_type": "markdown",
   "id": "cbdff5a5",
   "metadata": {},
   "source": [
    "# Módulo 5 - Funções\n",
    "\n",
    "## Aulas 5.2 - Funções Customizadas e 5.4 Funções ```lambda```"
   ]
  },
  {
   "cell_type": "markdown",
   "id": "28a3fee2",
   "metadata": {},
   "source": [
    "### Q1.\n",
    "\n",
    "- Sabendo que o código a seguir calcula o fatorial de n, escreva uma função chamada ```fatorial()``` que recebe um inteiro ```n``` como parâmetro e retorna o resultado do fatorial de ```n```. \n",
    "- No programa principal, peça ao usuário o valor de ```n```, chame a sua função e imprima o retorno.\n",
    "\n",
    "```python\n",
    "fat = 1\n",
    "for i in range(1, n+1):\n",
    "    fat *= i \n",
    "```"
   ]
  },
  {
   "cell_type": "code",
   "execution_count": 6,
   "id": "d126b3a5",
   "metadata": {},
   "outputs": [],
   "source": [
    "## Crie aqui a função fatorial()\n",
    "def fatorial(n):\n",
    "#corpo da função\n",
    "    fat = 1\n",
    "    for i in range(1, n+1):\n",
    "        fat *= i     \n",
    "    return fat\n"
   ]
  },
  {
   "cell_type": "code",
   "execution_count": 7,
   "id": "6e4fe64e",
   "metadata": {},
   "outputs": [
    {
     "name": "stdin",
     "output_type": "stream",
     "text": [
      "Digite o valor de n: 4\n"
     ]
    },
    {
     "name": "stdout",
     "output_type": "stream",
     "text": [
      "4! é 24\n"
     ]
    }
   ],
   "source": [
    "## Escreva aqui o programa principal e execute a célula\n",
    "n = int(input(\"Digite o valor de n:\"))\n",
    "meu_fatorial = fatorial(n)\n",
    "print (f\"{n}! é {meu_fatorial}\")\n"
   ]
  },
  {
   "cell_type": "markdown",
   "id": "c0a1f599",
   "metadata": {},
   "source": [
    "### Q2.\n",
    "\n",
    "- Escreva uma função em Python chamada ```soma_quadrados``` que recebe dois números como parâmetros e retorna a soma dos seus quadrados. \n",
    "- No programa principal solicite ao usuário que insira dois números e utilize a função para exibir a soma dos quadrados."
   ]
  },
  {
   "cell_type": "code",
   "execution_count": 11,
   "id": "6dbddaad",
   "metadata": {},
   "outputs": [],
   "source": [
    "## Crie aqui a função soma_quadrados()\n",
    "def soma_quadrados(x,y):\n",
    "#corpo da função\n",
    "    x2 = x * x\n",
    "    y2 = y *y\n",
    "    soma = x2 + y2\n",
    "    return soma\n",
    "\n",
    "\n"
   ]
  },
  {
   "cell_type": "code",
   "execution_count": 12,
   "id": "9175a7da",
   "metadata": {},
   "outputs": [
    {
     "name": "stdin",
     "output_type": "stream",
     "text": [
      "Digite o valor de x: 3\n",
      "Digite o valor de y: 2\n"
     ]
    },
    {
     "name": "stdout",
     "output_type": "stream",
     "text": [
      "A soma dos quadrados é 13\n"
     ]
    }
   ],
   "source": [
    "## Escreva aqui o programa principal e execute a célula\n",
    "x = int(input(\"Digite o valor de x:\"))\n",
    "y = int(input(\"Digite o valor de y:\"))\n",
    "soma = soma_quadrados(x,y)\n",
    "print (f\"A soma dos quadrados é {soma}\")\n"
   ]
  },
  {
   "cell_type": "markdown",
   "id": "6ba34ce0",
   "metadata": {},
   "source": [
    "### Q3.\n",
    "\n",
    "- Crie uma função em Python chamada ```soma_digitos``` que recebe um número inteiro como parâmetro e retorna a soma dos seus dígitos. Por exemplo, para o número 123, a função deve retornar 6, $(1 + 2 + 3)$.\n",
    "    - O desafio aqui é separar os dígitos de um número inteiro usando operações aritméticas <br> <br>\n",
    "\n",
    "- No programa principal solicite ao usuário que insira um número e utilize a função ```soma_digitos``` para calcular e exibir a soma dos seus dígitos."
   ]
  },
  {
   "cell_type": "code",
   "execution_count": 99,
   "id": "34838ebf",
   "metadata": {},
   "outputs": [],
   "source": [
    "## Crie aqui a função soma_digitos()\n",
    "def soma_digitos(numero):\n",
    "    soma = 0\n",
    "    while numero > 0:\n",
    "        digito = numero % 10  # Obtém o último dígito\n",
    "        soma += digito        # Adiciona o dígito à soma\n",
    "        numero //= 10         # Remove o último dígito\n",
    "    return soma\n",
    "\n",
    "    \n"
   ]
  },
  {
   "cell_type": "code",
   "execution_count": 102,
   "id": "27c35b21",
   "metadata": {},
   "outputs": [
    {
     "name": "stdin",
     "output_type": "stream",
     "text": [
      "Digite um número inteiro:  123\n"
     ]
    },
    {
     "name": "stdout",
     "output_type": "stream",
     "text": [
      "A soma dos dígitos de 123 é: 6\n"
     ]
    }
   ],
   "source": [
    "## Escreva aqui o programa principal e execute a célula\n",
    "numero_inserido = int(input(\"Digite um número inteiro: \"))\n",
    "resultado = soma_digitos(numero_inserido)\n",
    "print(f\"A soma dos dígitos de {numero_inserido} é: {resultado}\")\n"
   ]
  },
  {
   "cell_type": "markdown",
   "id": "c318b159",
   "metadata": {},
   "source": [
    " Q4.\n",
    "\n",
    "- Crie a função ```inverteValor()``` que recebe um inteiro de qualquer tamanho e retorna esse valor invertido usando apenas operações aritméticas\n",
    "- Crie a função ```verificaInverso()``` que recebe o valor original e o valor invertido e retorna verdadeiro se ambos forem igualmente par ou igualmente ímpar. Retorne falso caso contrário.\n",
    "- No programa principal, peça um valor do usuário e imprima o retorno de ambas as funções.\n"
   ]
  },
  {
   "cell_type": "code",
   "execution_count": 4,
   "id": "e4e47d1d",
   "metadata": {},
   "outputs": [],
   "source": [
    "## Crie aqui a função inverteValor() e a função verificaInverso()\n",
    "\n",
    "def inverteValor(numero):\n",
    "    invertido = 0\n",
    "    \n",
    "    #corpo da função\n",
    "    while numero > 0:\n",
    "        digito = numero % 10\n",
    "        invertido = invertido * 10 + digito\n",
    "        numero //= 10\n",
    "    return invertido\n",
    "\n",
    "  \n",
    "def verificaInverso(original, invertido):\n",
    "    \n",
    "     #corpo da função\n",
    "    return (original % 2 == invertido % 2)\n",
    "\n"
   ]
  },
  {
   "cell_type": "code",
   "execution_count": 103,
   "id": "a9514e56",
   "metadata": {},
   "outputs": [
    {
     "name": "stdin",
     "output_type": "stream",
     "text": [
      "Digite um valor inteiro:  1234\n"
     ]
    },
    {
     "name": "stdout",
     "output_type": "stream",
     "text": [
      "Valor invertido: 4321\n",
      "Ambos são igualmente par ou igualmente ímpar? False\n"
     ]
    }
   ],
   "source": [
    "## Escreva aqui o programa principal e execute a célula\n",
    "# Programa principal\n",
    "\n",
    "n = int(input(\"Digite um valor inteiro: \"))\n",
    "n_invertido = inverteValor(n)\n",
    "resultado_verificado = verificaInverso(n, n_invertido)\n",
    "    \n",
    "print(f\"Valor invertido: {n_invertido}\")\n",
    "print(f\"Ambos são igualmente par ou igualmente ímpar? {resultado_verificado}\")\n",
    "\n"
   ]
  },
  {
   "cell_type": "markdown",
   "id": "329be966",
   "metadata": {},
   "source": [
    "### Q5.\n",
    "\n",
    "Você está desenvolvendo um programa para auxiliar em cálculos de geometria básica. Crie as seguintes funções:\n",
    "- A função ```calcula_perimetro_triangulo()``` que recebe três inteiros correspondentes aos lados de um triângulo e retorna o perímetro do triângulo, ou seja, a soma dos seus lados.\n",
    "- A função ```calcula_perimetro_circulo()``` que recebe um inteiro referente ao raio do círculo e retorna o perímetro do círculo, dado por $2 \\pi r$. Use a constante $\\pi$ da biblioteca ```math```.\n",
    "- A função ```calcula_perimetro_retangulo()``` que possui um parâmetro obrigatório ```lado1``` e um opcional ```lado2```, ambos inteiros. Se o valor opcional não for fornecido, significa que se trata de um quadrado. Sua função deve calcular e retornar o perímetro do retângulo, ou seja, a soma de seus lados. \n",
    "    - Para o quadrado, é dado por $4 \\times lado1$\n",
    "    - Para o retângulo é dado por $2 \\times lado1 + 2 \\times lado2$\n",
    "    \n",
    "- No programa principal apresente um menu com as opções disponíveis do seu sistema e uma quarta opção ```Sair```. Solicite ao usuário a opção desejada, solicite as entradas correspondentes à opção escolhida, invoque a respective função e apresente o seu retorno. Seu programa deve retornar ao menu até que o usuário escolha a opção ```Sair```\n",
    "\n",
    "Exemplo de interação:\n",
    "```\n",
    "1 - Calcular perímetro triângulo\n",
    "2 - Calcular perímetro círculo\n",
    "3 - Calcular perímetro retângulo\n",
    "4 - Sair\n",
    "\n",
    "Opção: 1\n",
    "Digite os três lados do triângulo:\n",
    "3\n",
    "4\n",
    "5\n",
    "O perímetro é: 12\n",
    "\n",
    "1 - Calcular perímetro triângulo\n",
    "2 - Calcular perímetro círculo\n",
    "3 - Calcular perímetro retângulo\n",
    "4 - Sair\n",
    "\n",
    "Opção: 3\n",
    "Informe os dois lados do retângulo. Se for um quadrado, digite 0 para o segundo valor:\n",
    "5\n",
    "0\n",
    "O perímetro é: 20\n",
    "\n",
    "1 - Calcular perímetro triângulo\n",
    "2 - Calcular perímetro círculo\n",
    "3 - Calcular perímetro retângulo\n",
    "4 - Sair\n",
    "\n",
    "Opção: 4\n",
    "```"
   ]
  },
  {
   "cell_type": "code",
   "execution_count": 60,
   "id": "0793d328",
   "metadata": {},
   "outputs": [],
   "source": [
    "## Crie aqui as funções \n",
    "import math\n",
    "\n",
    "def calcula_perimetro_triangulo(lado1, lado2, lado3):\n",
    "    #calcula o perimetro do triangulo\n",
    "    return  lado1 + lado2 + lado3\n",
    "    \n",
    "\n",
    "\n",
    "def calcula_perimetro_circulo(raio):\n",
    "   #calcula o perimetro do circulo\n",
    "    return 2 * math.pi * raio\n",
    "\n",
    "\n",
    "\n",
    "def calcula_perimetro_retangulo(lado1, lado2):\n",
    "   #calcula o perimetro ddo quadrado ou do retangulo  \n",
    "    if lado2 = '0':\n",
    "        return 4 * lado1\n",
    "    else: return 2 * lado1 + 2 * lado2\n",
    "\n",
    "\n",
    "\n"
   ]
  },
  {
   "cell_type": "code",
   "execution_count": 66,
   "id": "36269c71",
   "metadata": {},
   "outputs": [
    {
     "name": "stdout",
     "output_type": "stream",
     "text": [
      "\n",
      "Menu:\n",
      "1. Calcular perímetro do triângulo\n",
      "2. Calcular perímetro do círculo\n",
      "3. Calcular perímetro do retângulo\n",
      "4. Sair\n"
     ]
    },
    {
     "name": "stdin",
     "output_type": "stream",
     "text": [
      "Escolha uma opção:  3\n",
      "Digite o lado 1:  2\n",
      "Digite o lado 2 (digite 0 se for um quadrado):  0\n"
     ]
    },
    {
     "name": "stdout",
     "output_type": "stream",
     "text": [
      "O perímetro do retângulo é: 8\n",
      "\n",
      "Menu:\n",
      "1. Calcular perímetro do triângulo\n",
      "2. Calcular perímetro do círculo\n",
      "3. Calcular perímetro do retângulo\n",
      "4. Sair\n"
     ]
    },
    {
     "name": "stdin",
     "output_type": "stream",
     "text": [
      "Escolha uma opção:  1\n",
      "Digite o lado 1:  2\n",
      "Digite o lado 2:  3\n",
      "Digite o lado 3:  4\n"
     ]
    },
    {
     "name": "stdout",
     "output_type": "stream",
     "text": [
      "O perímetro do triângulo é: 9\n",
      "\n",
      "Menu:\n",
      "1. Calcular perímetro do triângulo\n",
      "2. Calcular perímetro do círculo\n",
      "3. Calcular perímetro do retângulo\n",
      "4. Sair\n"
     ]
    },
    {
     "name": "stdin",
     "output_type": "stream",
     "text": [
      "Escolha uma opção:  3\n",
      "Digite o lado 1:  2\n",
      "Digite o lado 2 (digite 0 se for um quadrado):  2\n"
     ]
    },
    {
     "name": "stdout",
     "output_type": "stream",
     "text": [
      "O perímetro do retângulo é: 8\n",
      "\n",
      "Menu:\n",
      "1. Calcular perímetro do triângulo\n",
      "2. Calcular perímetro do círculo\n",
      "3. Calcular perímetro do retângulo\n",
      "4. Sair\n"
     ]
    },
    {
     "name": "stdin",
     "output_type": "stream",
     "text": [
      "Escolha uma opção:  2\n",
      "Digite o raio do círculo:  3\n"
     ]
    },
    {
     "name": "stdout",
     "output_type": "stream",
     "text": [
      "O perímetro do círculo é: 18.84955592153876\n",
      "\n",
      "Menu:\n",
      "1. Calcular perímetro do triângulo\n",
      "2. Calcular perímetro do círculo\n",
      "3. Calcular perímetro do retângulo\n",
      "4. Sair\n"
     ]
    },
    {
     "name": "stdin",
     "output_type": "stream",
     "text": [
      "Escolha uma opção:  4\n"
     ]
    },
    {
     "name": "stdout",
     "output_type": "stream",
     "text": [
      "Saindo do programa.\n"
     ]
    }
   ],
   "source": [
    "# Escreva aqui o programa principal\n",
    "while True:\n",
    "    print(\"\\nMenu:\")\n",
    "    print(\"1. Calcular perímetro do triângulo\")\n",
    "    print(\"2. Calcular perímetro do círculo\")\n",
    "    print(\"3. Calcular perímetro do retângulo\")\n",
    "    print(\"4. Sair\")\n",
    "\n",
    "    opcao = input(\"Escolha uma opção: \")\n",
    "\n",
    "    if opcao == '1':\n",
    "        lado1 = int(input(\"Digite o lado 1: \"))\n",
    "        lado2 = int(input(\"Digite o lado 2: \"))\n",
    "        lado3 = int(input(\"Digite o lado 3: \"))\n",
    "        print(\"O perímetro do triângulo é:\" ,calcula_perimetro_triangulo(lado1, lado2, lado3))\n",
    "    elif opcao == '2':\n",
    "        raio = float(input(\"Digite o raio do círculo: \"))\n",
    "        print(\"O perímetro do círculo é:\" ,calcula_perimetro_circulo(raio))\n",
    "    elif opcao == '3':\n",
    "        lado1 = int(input(\"Digite o lado 1: \"))\n",
    "        lado2 = input(\"Digite o lado 2 (digite 0 se for um quadrado): \")\n",
    "        if lado2 == 0:\n",
    "            print(f\"O perímetro do quadrado é: {calcula_perimetro_retangulo(lado1)}\")\n",
    "        else:\n",
    "            print(f\"O perímetro do retângulo é: {calcula_perimetro_retangulo(lado1, int(lado2))}\")\n",
    "    elif opcao == '4':\n",
    "        print(\"Saindo do programa.\")\n",
    "        break\n",
    "    else:\n",
    "        print(\"Opção inválida. Tente novamente.\")\n",
    "\n",
    "\n",
    "             \n",
    "       \n"
   ]
  },
  {
   "cell_type": "markdown",
   "id": "3016bcc7",
   "metadata": {},
   "source": [
    "## Funções ```lambda```"
   ]
  },
  {
   "cell_type": "markdown",
   "id": "f9cdb8dd",
   "metadata": {},
   "source": [
    "### Q6.\n",
    "\n",
    "Crie uma função lambda para verificar se um número é par ou ímpar. Em seguida, solicite ao usuário um número indefinidos de valores (até que o usuário digite 0). Para cada valor de entrada, informe se é par ou ímpar.\n",
    "\n",
    "Exemplo de interação:\n",
    "```\n",
    "Digite os valores que deseja verificar a paridade (digite 0 para finalizar a entrada de dados):\n",
    "3\n",
    "ímpar\n",
    "8\n",
    "par\n",
    "12\n",
    "par\n",
    "5\n",
    "ímpar\n",
    "7ímpar\n",
    "```"
   ]
  },
  {
   "cell_type": "code",
   "execution_count": 67,
   "id": "e3c31a78",
   "metadata": {},
   "outputs": [
    {
     "name": "stdin",
     "output_type": "stream",
     "text": [
      "Digite um número (0 para sair):  3\n"
     ]
    },
    {
     "name": "stdout",
     "output_type": "stream",
     "text": [
      "Ímpar\n"
     ]
    },
    {
     "name": "stdin",
     "output_type": "stream",
     "text": [
      "Digite um número (0 para sair):  4\n"
     ]
    },
    {
     "name": "stdout",
     "output_type": "stream",
     "text": [
      "Par\n"
     ]
    },
    {
     "name": "stdin",
     "output_type": "stream",
     "text": [
      "Digite um número (0 para sair):  10\n"
     ]
    },
    {
     "name": "stdout",
     "output_type": "stream",
     "text": [
      "Par\n"
     ]
    },
    {
     "name": "stdin",
     "output_type": "stream",
     "text": [
      "Digite um número (0 para sair):  57\n"
     ]
    },
    {
     "name": "stdout",
     "output_type": "stream",
     "text": [
      "Ímpar\n"
     ]
    },
    {
     "name": "stdin",
     "output_type": "stream",
     "text": [
      "Digite um número (0 para sair):  0\n"
     ]
    },
    {
     "name": "stdout",
     "output_type": "stream",
     "text": [
      "Encerrando o programa...\n"
     ]
    }
   ],
   "source": [
    "#corpo da função\n",
    "funçao = lambda x: \"Par\" if x % 2 == 0 else \"Ímpar\"\n",
    "#programa principal\n",
    "while True:\n",
    "    x = int(input(\"Digite um número (0 para sair): \"))\n",
    "    if x == 0:\n",
    "        print(\"Encerrando o programa...\")\n",
    "        break\n",
    "    print(funçao(x))"
   ]
  },
  {
   "cell_type": "markdown",
   "id": "5a87474d",
   "metadata": {},
   "source": [
    "### Q7.\n",
    "\n",
    "Escreva um programa que pergunte ao usuário qual operação ele deseja: maior ou menor.\n",
    "Em seguida leia uma quantidade indefinida de valores do usuário, até que o usuário digite o valor zero.\n",
    "Apresente ao final o maior ou menor dos valores digitados de acordo com a escolha do usuário.\n",
    "\n",
    "**Sua solução deve incluir pelo menos uma função ```lambda```** \n",
    "\n",
    "Exemplo de interação:\n",
    "```\n",
    "Opções: (1) maior ou (2) menor?\n",
    "Opção: 1\n",
    "\n",
    "Digite os valores de entrada. Digite 0 para finalizar a entrada de valores.\n",
    "4\n",
    "12\n",
    "15\n",
    "1\n",
    "0\n",
    "\n",
    "O maior valor é: 15\n",
    "```"
   ]
  },
  {
   "cell_type": "code",
   "execution_count": 78,
   "id": "ee3f68ca",
   "metadata": {},
   "outputs": [
    {
     "name": "stdin",
     "output_type": "stream",
     "text": [
      "(1) para maior ou (2) para menor: 2\n",
      "Digite os valores de entrada ou 0 para finalizar: 2\n",
      "Digite os valores de entrada ou 0 para finalizar: 34\n",
      "Digite os valores de entrada ou 0 para finalizar: 56\n",
      "Digite os valores de entrada ou 0 para finalizar: 0\n"
     ]
    },
    {
     "name": "stdout",
     "output_type": "stream",
     "text": [
      "O menor valor é: 2\n"
     ]
    }
   ],
   "source": [
    "## Escreva aqui o programa principal \n",
    "opçoes = int(input(\"(1) para maior ou (2) para menor:\"))\n",
    "if opçoes == 1:\n",
    "    resultado = float(\"-inf\")\n",
    "    funçao = lambda a,b: a>b\n",
    "else:\n",
    "    resultado = float(\"inf\")\n",
    "    funçao = lambda a,b: a<b\n",
    "\n",
    "while True:\n",
    "    n = int(input(\"Digite os valores de entrada ou 0 para finalizar:\"))\n",
    "    if n == 0: break\n",
    "\n",
    "    if funçao(n,resultado):\n",
    "        resultado = n\n",
    "print(f\"O {'maior' if opçoes == 1 else 'menor'} valor é: {resultado}\")\n",
    "\n"
   ]
  },
  {
   "cell_type": "code",
   "execution_count": null,
   "id": "64974273-8afe-4a51-af12-2773e9b9bcb0",
   "metadata": {},
   "outputs": [],
   "source": []
  }
 ],
 "metadata": {
  "kernelspec": {
   "display_name": "Python 3 (ipykernel)",
   "language": "python",
   "name": "python3"
  },
  "language_info": {
   "codemirror_mode": {
    "name": "ipython",
    "version": 3
   },
   "file_extension": ".py",
   "mimetype": "text/x-python",
   "name": "python",
   "nbconvert_exporter": "python",
   "pygments_lexer": "ipython3",
   "version": "3.12.7"
  }
 },
 "nbformat": 4,
 "nbformat_minor": 5
}
